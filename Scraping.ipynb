{
 "cells": [
  {
   "cell_type": "code",
   "execution_count": 87,
   "metadata": {},
   "outputs": [],
   "source": [
    "import requests\n",
    "import re\n",
    "from bs4 import BeautifulSoup\n",
    "import pandas as pd \n",
    "import numpy as np"
   ]
  },
  {
   "cell_type": "markdown",
   "metadata": {},
   "source": [
    "### ● 不動産の一つの物件から情報を取得する。"
   ]
  },
  {
   "cell_type": "markdown",
   "metadata": {},
   "source": [
    "homes、新宿区のみで実施"
   ]
  },
  {
   "cell_type": "code",
   "execution_count": 88,
   "metadata": {},
   "outputs": [],
   "source": [
    "base_url = \"https://www.homes.co.jp/chintai/tokyo/shinjuku-city/list/\"\n",
    "headers = {\n",
    "    \"User-Agent\": \"Mozilla/5.0 (Windows NT 10.0; Win64; x64) AppleWebKit/537.36 (KHTML, like Gecko) Chrome/91.0.4472.124 Safari/537.36\"\n",
    "}\n",
    "\n",
    "response = requests.get(base_url, headers=headers)\n",
    "soup     = BeautifulSoup(response.content, \"lxml\")\n",
    "items    = soup.find(class_=\"mod-mergeBuilding--rent--photo rMansion ui-frame ui-frame-cacao-bar\")"
   ]
  },
  {
   "cell_type": "code",
   "execution_count": 89,
   "metadata": {},
   "outputs": [
    {
     "name": "stdout",
     "output_type": "stream",
     "text": [
      "物件名称 (Property Name): ＦＡＲＥ西新宿VIII\n",
      "住所 (Address): 東京都新宿区西新宿4丁目20-14-2\n",
      "最寄り駅 (Nearest Stations): ['都営大江戸線 西新宿五丁目駅 徒歩4分', '都営大江戸線 都庁前駅 徒歩12分']\n"
     ]
    }
   ],
   "source": [
    "\n",
    "property_name = items.find(class_=\"bukkenName\").get_text(strip=True) if items.find(class_=\"bukkenName\") else None\n",
    "    \n",
    "for item in items:\n",
    "    address_td = item.find('th', string='所在地')\n",
    "    if address_td:\n",
    "        address = address_td.find_next_sibling('td').get_text(strip=True)\n",
    "        break\n",
    "\n",
    "nearest_stations = []\n",
    "traffic_td = items.find(\"td\", class_=\"traffic\")\n",
    "if traffic_td:\n",
    "    nearest_stations.append(traffic_td.get_text(strip=True))\n",
    "else:\n",
    "    station_spans = items.find_all(\"span\", class_=\"prg-stationText\")\n",
    "    for span in station_spans:\n",
    "        nearest_stations.append(span.get_text(strip=True))\n",
    "\n",
    "# 各物件情報の表示\n",
    "print(\"物件名称 (Property Name):\", property_name)\n",
    "print(\"住所 (Address):\", address)\n",
    "print(\"最寄り駅 (Nearest Stations):\", nearest_stations)\n"
   ]
  },
  {
   "cell_type": "markdown",
   "metadata": {},
   "source": [
    "↑ ひとまずHomes物件の名称、住所、最寄駅までスクレイピングできた。この後、築年数以降をスクレイピングで持ってきたい"
   ]
  },
  {
   "cell_type": "markdown",
   "metadata": {},
   "source": [
    "スクレイピングできているかtxtファイルに出力して確認"
   ]
  },
  {
   "cell_type": "code",
   "execution_count": 90,
   "metadata": {},
   "outputs": [],
   "source": [
    "# スクレイピングした HTML情報出力\n",
    "f = open(\"test4.txt\", \"w\")\n",
    "f.write(str(items))\n",
    "f.close()"
   ]
  },
  {
   "cell_type": "markdown",
   "metadata": {},
   "source": [
    "築年数と何階建かは共通だが、それ以降は同じ建物でも部屋によって異なることに注意する！"
   ]
  },
  {
   "cell_type": "code",
   "execution_count": 91,
   "metadata": {},
   "outputs": [
    {
     "name": "stdout",
     "output_type": "stream",
     "text": [
      "築年数 (Years Since Construction): 新築\n",
      "階建 (Number of Floors): 4階建\n"
     ]
    }
   ],
   "source": [
    "module_body = items.find('div', class_='moduleBody')\n",
    "if module_body:\n",
    "        construction_th = module_body.find('th', string='築年数/階数')\n",
    "        if construction_th:\n",
    "            years_since_const = construction_th.find_next_sibling('td').get_text(strip=True).split(' ')[0]\n",
    "            number_of_floors = construction_th.find_next_sibling('td').get_text(strip=True).split(' ')[2]  # 「新築」部分のみ取得\n",
    "print(\"築年数 (Years Since Construction):\", years_since_const)\n",
    "print(\"階建 (Number of Floors):\", number_of_floors)"
   ]
  },
  {
   "cell_type": "markdown",
   "metadata": {},
   "source": [
    "ここから同じ建物でも部屋によって異なる要素のスクレイピング"
   ]
  },
  {
   "cell_type": "markdown",
   "metadata": {},
   "source": [
    "階数"
   ]
  },
  {
   "cell_type": "code",
   "execution_count": 92,
   "metadata": {},
   "outputs": [
    {
     "name": "stdout",
     "output_type": "stream",
     "text": [
      "階数 (Floor Number): 4階\n"
     ]
    }
   ],
   "source": [
    "floor_number_td   = items.find(class_=\"roomKaisuu\")\n",
    "floor_number      = floor_number_td.get_text(strip=True) if floor_number_td else None\n",
    "\n",
    "print(\"階数 (Floor Number):\", floor_number)"
   ]
  },
  {
   "cell_type": "markdown",
   "metadata": {},
   "source": [
    "賃料と管理費"
   ]
  },
  {
   "cell_type": "code",
   "execution_count": 93,
   "metadata": {},
   "outputs": [
    {
     "name": "stdout",
     "output_type": "stream",
     "text": [
      "9.7万円\n"
     ]
    }
   ],
   "source": [
    "price_label = items.select_one(\"td.price .priceLabel\")\n",
    "print(price_label.get_text())"
   ]
  },
  {
   "cell_type": "code",
   "execution_count": 94,
   "metadata": {},
   "outputs": [
    {
     "name": "stdout",
     "output_type": "stream",
     "text": [
      "/5,000円\n"
     ]
    }
   ],
   "source": [
    "rent_price         = items.select_one(\"span.priceLabel\")\n",
    "rent_admin         = items.select_one(\"td.price .priceLabel\").next_sibling.strip()\n",
    "\n",
    "print(rent_admin)"
   ]
  },
  {
   "cell_type": "markdown",
   "metadata": {},
   "source": [
    "つなぎ合わせて出力"
   ]
  },
  {
   "cell_type": "code",
   "execution_count": 95,
   "metadata": {},
   "outputs": [
    {
     "name": "stdout",
     "output_type": "stream",
     "text": [
      "賃料/管理費 (Rent/Administration Fee): 9.7万円 / 5000円\n"
     ]
    }
   ],
   "source": [
    "rent_price_label = items.select_one(\"span.priceLabel\")\n",
    "rent_price = rent_price_label.get_text(strip=True) if rent_price_label else None\n",
    "\n",
    "# 管理費の要素を選択\n",
    "rent_admin = rent_price_label.next_sibling.strip().replace(\"/\", \"\").replace(\",\", \"\") if rent_price_label else None\n",
    "\n",
    "# 賃料と管理費が両方存在する場合に連結して出力\n",
    "if rent_price and rent_admin:\n",
    "    combined_rent = f\"{rent_price} / {rent_admin}\"\n",
    "    print(\"賃料/管理費 (Rent/Administration Fee):\", combined_rent)\n",
    "else:\n",
    "    print(\"賃料または管理費の要素が見つかりませんでした。\")"
   ]
  },
  {
   "cell_type": "markdown",
   "metadata": {},
   "source": [
    "敷金、礼金も記載（スーモの形式　◯万円／◯万円　と合わせられていない）"
   ]
  },
  {
   "cell_type": "code",
   "execution_count": 96,
   "metadata": {},
   "outputs": [
    {
     "name": "stdout",
     "output_type": "stream",
     "text": [
      "賃料/管理費 (Rent/Administration Fee): 1ヶ月 / 無\n"
     ]
    }
   ],
   "source": [
    "price = items.select_one(\"td.price\")\n",
    "br_tag = price.find('br').next_sibling.strip()\n",
    "\n",
    "depo = br_tag.split(\"/\")[0]\n",
    "key = br_tag.split(\"/\")[1]\n",
    "\n",
    "deposit_gratuity = f\"{depo} / {key}\"\n",
    "print(\"賃料/管理費 (Rent/Administration Fee):\", deposit_gratuity)"
   ]
  },
  {
   "cell_type": "markdown",
   "metadata": {},
   "source": [
    "間取りと占有面積"
   ]
  },
  {
   "cell_type": "code",
   "execution_count": 97,
   "metadata": {},
   "outputs": [
    {
     "name": "stdout",
     "output_type": "stream",
     "text": [
      "間取り/占有面積 (Layout/Total Area): ワンルーム / 17.87m²\n"
     ]
    }
   ],
   "source": [
    "layout = items.select_one(\"td.layout\")\n",
    "layout_text = layout.get_text(strip=True)\n",
    "\n",
    "room_type = layout.contents[0].strip() if layout.contents else None\n",
    "room_area = layout.find('br').next_sibling.strip() if layout.find('br') else None\n",
    "\n",
    "layout_total_area = f\"{room_type} / {room_area}\"\n",
    "print(\"間取り/占有面積 (Layout/Total Area):\", layout_total_area)"
   ]
  },
  {
   "cell_type": "markdown",
   "metadata": {},
   "source": [
    "物件画像"
   ]
  },
  {
   "cell_type": "code",
   "execution_count": 98,
   "metadata": {},
   "outputs": [
    {
     "name": "stdout",
     "output_type": "stream",
     "text": [
      "物件画像 URL (Property Image URL): https://image4.homes.jp/smallimg/image.php?file=http%3A%2F%2Fimg.homes.jp%2F107095%2Frent%2F68049%2F2%2F2%2Fu1oj.jpg\n"
     ]
    }
   ],
   "source": [
    "property_image_element = items.select_one(\".bukkenPhoto .photo img\")\n",
    "property_image_url = property_image_element[\"data-original\"] if property_image_element else None\n",
    "\n",
    "print(\"物件画像 URL (Property Image URL):\", property_image_url)"
   ]
  },
  {
   "cell_type": "markdown",
   "metadata": {},
   "source": [
    "間取り画像"
   ]
  },
  {
   "cell_type": "code",
   "execution_count": 99,
   "metadata": {},
   "outputs": [
    {
     "name": "stdout",
     "output_type": "stream",
     "text": [
      "間取り情報画像 URL (Floor Plan Image URL): https://image3.homes.jp/smallimg/image.php?file=http%3A%2F%2Fimg.homes.jp%2F107095%2Frent%2F68049%2F1%2F1%2F6fvd.jpg\n"
     ]
    }
   ],
   "source": [
    "floor_plan_image_element = items.select_one(\".floarPlanPic img\")\n",
    "floor_plan_image_url = floor_plan_image_element[\"data-original\"] if floor_plan_image_element else None\n",
    "print(\"間取り情報画像 URL (Floor Plan Image URL):\", floor_plan_image_url)"
   ]
  },
  {
   "cell_type": "markdown",
   "metadata": {},
   "source": [
    "詳細URL"
   ]
  },
  {
   "cell_type": "code",
   "execution_count": 100,
   "metadata": {},
   "outputs": [
    {
     "name": "stdout",
     "output_type": "stream",
     "text": [
      "物件リンク (Property Link): https://www.homes.co.jp/chintai/room/c36a2b7932339f6205ea77dad6a63af733483876/\n"
     ]
    }
   ],
   "source": [
    "property_link_element = items.select_one(\"a[href*='/chintai/room']\")\n",
    "property_link =property_link_element['href'] if property_link_element else None \n",
    "## 不動産サイトから詳細URLリンクを読み解き作成\n",
    "print(\"物件リンク (Property Link):\", property_link)"
   ]
  },
  {
   "cell_type": "markdown",
   "metadata": {},
   "source": [
    "全部くっつけてみる"
   ]
  },
  {
   "cell_type": "code",
   "execution_count": 101,
   "metadata": {},
   "outputs": [
    {
     "name": "stdout",
     "output_type": "stream",
     "text": [
      "物件名称 (Property Name): ＦＡＲＥ西新宿VIII\n",
      "住所 (Address): 東京都新宿区西新宿4丁目20-14-2\n",
      "最寄り駅 (Nearest Stations): ['都営大江戸線 西新宿五丁目駅 徒歩4分', '都営大江戸線 都庁前駅 徒歩12分']\n",
      "築年数 (Years Since Construction): 新築\n",
      "階建 (Number of Floors): 4階建\n",
      "階数 (Floor Number): 4階\n",
      "賃料/管理費 (Rent/Administration Fee): 9.7万円 / 5000円\n",
      "賃料/管理費 (Rent/Administration Fee): 1ヶ月 / 無\n",
      "間取り/占有面積 (Layout/Total Area): ワンルーム / 17.87m²\n",
      "物件画像 URL (Property Image URL): https://image4.homes.jp/smallimg/image.php?file=http%3A%2F%2Fimg.homes.jp%2F107095%2Frent%2F68049%2F2%2F2%2Fu1oj.jpg\n",
      "間取り情報画像 URL (Floor Plan Image URL): https://image3.homes.jp/smallimg/image.php?file=http%3A%2F%2Fimg.homes.jp%2F107095%2Frent%2F68049%2F1%2F1%2F6fvd.jpg\n",
      "物件リンク (Property Link): https://www.homes.co.jp/chintai/room/c36a2b7932339f6205ea77dad6a63af733483876/\n"
     ]
    }
   ],
   "source": [
    "base_url = \"https://www.homes.co.jp/chintai/tokyo/shinjuku-city/list/\"\n",
    "headers = {\n",
    "    \"User-Agent\": \"Mozilla/5.0 (Windows NT 10.0; Win64; x64) AppleWebKit/537.36 (KHTML, like Gecko) Chrome/91.0.4472.124 Safari/537.36\"\n",
    "}\n",
    "\n",
    "response = requests.get(base_url, headers=headers)\n",
    "soup     = BeautifulSoup(response.content, \"lxml\")\n",
    "items    = soup.find(class_=\"mod-mergeBuilding--rent--photo\")\n",
    "\n",
    "\n",
    "#物件名称、住所、最寄駅\n",
    "property_name = items.find(class_=\"bukkenName\").get_text(strip=True) if items.find(class_=\"bukkenName\") else None\n",
    "    \n",
    "for item in items:\n",
    "    address_td = item.find('th', string='所在地')\n",
    "    if address_td:\n",
    "        address = address_td.find_next_sibling('td').get_text(strip=True)\n",
    "        break\n",
    "\n",
    "nearest_stations = []\n",
    "traffic_td = items.find(\"td\", class_=\"traffic\")\n",
    "if traffic_td:\n",
    "    nearest_stations.append(traffic_td.get_text(strip=True))\n",
    "else:\n",
    "    station_spans = items.find_all(\"span\", class_=\"prg-stationText\")\n",
    "    for span in station_spans:\n",
    "        nearest_stations.append(span.get_text(strip=True))\n",
    "# 各物件情報の表示\n",
    "print(\"物件名称 (Property Name):\", property_name)\n",
    "print(\"住所 (Address):\", address)\n",
    "print(\"最寄り駅 (Nearest Stations):\", nearest_stations)\n",
    "\n",
    "\n",
    "#築年数、建物の階数\n",
    "module_body = items.find('div', class_='moduleBody')\n",
    "if module_body:\n",
    "        construction_th = module_body.find('th', string='築年数/階数')\n",
    "        if construction_th:\n",
    "            years_since_const = construction_th.find_next_sibling('td').get_text(strip=True).split(' ')[0]\n",
    "            number_of_floors = construction_th.find_next_sibling('td').get_text(strip=True).split(' ')[2]  # 「新築」部分のみ取得\n",
    "print(\"築年数 (Years Since Construction):\", years_since_const)\n",
    "print(\"階建 (Number of Floors):\", number_of_floors)\n",
    "\n",
    "\n",
    "#当該部屋の階数\n",
    "floor_number_td   = items.find(class_=\"roomKaisuu\")\n",
    "floor_number      = floor_number_td.get_text(strip=True) if floor_number_td else None\n",
    "print(\"階数 (Floor Number):\", floor_number)\n",
    "\n",
    "\n",
    "#賃料と管理費\n",
    "rent_price_label = items.select_one(\"span.priceLabel\")\n",
    "rent_price = rent_price_label.get_text(strip=True) if rent_price_label else None\n",
    "# 管理費の要素を選択\n",
    "rent_admin = rent_price_label.next_sibling.strip().replace(\"/\", \"\").replace(\",\", \"\") if rent_price_label else None\n",
    "# 賃料と管理費が両方存在する場合に連結して出力\n",
    "if rent_price and rent_admin:\n",
    "    combined_rent = f\"{rent_price} / {rent_admin}\"\n",
    "    print(\"賃料/管理費 (Rent/Administration Fee):\", combined_rent)\n",
    "else:\n",
    "    print(\"賃料または管理費の要素が見つかりませんでした。\")\n",
    "\n",
    "\n",
    "#賃料と管理費\n",
    "price = items.select_one(\"td.price\")\n",
    "br_tag = price.find('br').next_sibling.strip()\n",
    "depo = br_tag.split(\"/\")[0]\n",
    "key = br_tag.split(\"/\")[1]\n",
    "deposit_gratuity = f\"{depo} / {key}\"\n",
    "print(\"賃料/管理費 (Rent/Administration Fee):\", deposit_gratuity)\n",
    "\n",
    "\n",
    "#間取りと占有面積\n",
    "layout = items.select_one(\"td.layout\")\n",
    "layout_text = layout.get_text(strip=True)\n",
    "room_type = layout.contents[0].strip() if layout.contents else None\n",
    "room_area = layout.find('br').next_sibling.strip() if layout.find('br') else None\n",
    "layout_total_area = f\"{room_type} / {room_area}\"\n",
    "print(\"間取り/占有面積 (Layout/Total Area):\", layout_total_area)\n",
    "\n",
    "\n",
    "#物件画像\n",
    "property_image_element = items.select_one(\".bukkenPhoto .photo img\")\n",
    "property_image_url = property_image_element[\"data-original\"] if property_image_element else None\n",
    "print(\"物件画像 URL (Property Image URL):\", property_image_url)\n",
    "\n",
    "\n",
    "#間取り画像\n",
    "floor_plan_image_element = items.select_one(\".floarPlanPic img\")\n",
    "floor_plan_image_url = floor_plan_image_element[\"data-original\"] if floor_plan_image_element else None\n",
    "print(\"間取り情報画像 URL (Floor Plan Image URL):\", floor_plan_image_url)\n",
    "\n",
    "\n",
    "#物件詳細URL\n",
    "property_link_element = items.select_one(\"a[href*='/chintai/room']\")\n",
    "property_link =property_link_element['href'] if property_link_element else None \n",
    "## 不動産サイトから詳細URLリンクを読み解き作成\n",
    "print(\"物件リンク (Property Link):\", property_link)"
   ]
  },
  {
   "cell_type": "markdown",
   "metadata": {},
   "source": [
    "複数のページから情報を取得する。"
   ]
  },
  {
   "cell_type": "code",
   "execution_count": 102,
   "metadata": {},
   "outputs": [
    {
     "name": "stdout",
     "output_type": "stream",
     "text": [
      "page 1 items 30\n",
      "page 2 items 30\n",
      "page 3 items 30\n",
      "page 4 items 30\n",
      "page 5 items 30\n"
     ]
    }
   ],
   "source": [
    "import requests\n",
    "from bs4 import BeautifulSoup\n",
    "import pandas as pd\n",
    "\n",
    "base_url = \"https://www.homes.co.jp/chintai/tokyo/shinjuku-city/list/?page={}\"\n",
    "max_page = 5\n",
    "headers = {\n",
    "    \"User-Agent\": \"Mozilla/5.0 (Windows NT 10.0; Win64; x64) AppleWebKit/537.36 (KHTML, like Gecko) Chrome/91.0.4472.124 Safari/537.36\"\n",
    "}\n",
    "\n",
    "all_data = []\n",
    "\n",
    "for page in range(1, max_page + 1):\n",
    "    url = base_url.format(page)\n",
    "    response = requests.get(url, headers=headers) \n",
    "    soup = BeautifulSoup(response.content, 'lxml')\n",
    "    items = soup.findAll(\"div\", {\"class\": \"mod-mergeBuilding--rent--photo\"})\n",
    "\n",
    "    print(\"page\", page, \"items\", len(items))\n",
    "\n",
    "    for item in items:\n",
    "        base_data = {}\n",
    "        base_data[\"名称\"] = item.find(class_=\"bukkenName\").get_text(strip=True) if item.find(class_=\"bukkenName\") else None\n",
    "        base_data[\"アドレス\"] = next((td.find_next_sibling('td').get_text(strip=True) for td in item.find_all('th') if td.get_text(strip=True) == '所在地'), None)\n",
    "        base_data[\"アクセス\"] = item.find(\"td\", class_=\"traffic\").get_text(strip=True) if item.find(\"td\", class_=\"traffic\") else ', '.join(span.get_text(strip=True) for span in item.find_all(\"span\", class_=\"prg-stationText\"))\n",
    "        module_body = item.find('div', class_='moduleBody')\n",
    "        if module_body:\n",
    "            construction_th = module_body.find('th', string='築年数/階数')\n",
    "            if construction_th:\n",
    "                base_data[\"築年数\"] = construction_th.find_next_sibling('td').get_text(strip=True).split(' ')[0]\n",
    "                base_data[\"構造\"] = construction_th.find_next_sibling('td').get_text(strip=True).split(' ')[2]\n",
    "\n",
    "        rooms = item.find_all(class_=\"unitListBody prg-unitListBody\")\n",
    "        for room in rooms:\n",
    "            data = base_data.copy()\n",
    "            \n",
    "            # 当該部屋の階数\n",
    "            floor_number_td = room.find(class_=\"roomKaisuu\")\n",
    "            data[\"階数\"] = floor_number_td.get_text(strip=True) if floor_number_td else None\n",
    "\n",
    "            # 賃料と管理費を分けて取得\n",
    "            rent_price_label = room.select_one(\"span.priceLabel\")\n",
    "            rent_price = rent_price_label.get_text(strip=True) if rent_price_label else None\n",
    "            rent_admin = rent_price_label.next_sibling.strip().replace(\"/\", \"\").replace(\",\", \"\") if rent_price_label else None\n",
    "            data[\"家賃\"] = rent_price\n",
    "            data[\"管理費\"] = rent_admin\n",
    "\n",
    "            # 敷金と礼金を分けて取得\n",
    "            price = room.select_one(\"td.price\")\n",
    "            br_tag = price.find('br').next_sibling.strip()\n",
    "            depo = br_tag.split(\"/\")[0]\n",
    "            key = br_tag.split(\"/\")[1]\n",
    "            data[\"敷金\"] = depo\n",
    "            data[\"礼金\"] = key\n",
    "\n",
    "            # 間取りと占有面積を分けて取得\n",
    "            layout = room.select_one(\"td.layout\")\n",
    "            room_type = layout.contents[0].strip() if layout.contents else None\n",
    "            room_area = layout.find('br').next_sibling.strip().replace('m²', 'm2') if layout.find('br') else None\n",
    "            data[\"間取り\"] = room_type\n",
    "            data[\"面積\"] = room_area\n",
    "\n",
    "            property_image_element = item.select_one(\".bukkenPhoto .photo img\")\n",
    "            data[\"物件画像URL\"] = property_image_element[\"data-original\"] if property_image_element else None\n",
    "\n",
    "            # 間取り画像URL\n",
    "            floor_plan_image_element = item.select_one(\".floarPlanPic img\")\n",
    "            data[\"間取画像URL\"] = floor_plan_image_element[\"data-original\"] if floor_plan_image_element else None\n",
    "\n",
    "            # 物件詳細URL\n",
    "            property_link_element = item.select_one(\"a[href*='/chintai/room']\")\n",
    "            data[\"物件詳細URL\"] = property_link_element['href'] if property_link_element else None\n",
    "\n",
    "\n",
    "            all_data.append(data)"
   ]
  },
  {
   "cell_type": "code",
   "execution_count": 103,
   "metadata": {},
   "outputs": [
    {
     "data": {
      "text/html": [
       "<div>\n",
       "<style scoped>\n",
       "    .dataframe tbody tr th:only-of-type {\n",
       "        vertical-align: middle;\n",
       "    }\n",
       "\n",
       "    .dataframe tbody tr th {\n",
       "        vertical-align: top;\n",
       "    }\n",
       "\n",
       "    .dataframe thead th {\n",
       "        text-align: right;\n",
       "    }\n",
       "</style>\n",
       "<table border=\"1\" class=\"dataframe\">\n",
       "  <thead>\n",
       "    <tr style=\"text-align: right;\">\n",
       "      <th></th>\n",
       "      <th>名称</th>\n",
       "      <th>アドレス</th>\n",
       "      <th>アクセス</th>\n",
       "      <th>築年数</th>\n",
       "      <th>構造</th>\n",
       "      <th>階数</th>\n",
       "      <th>家賃</th>\n",
       "      <th>管理費</th>\n",
       "      <th>敷金</th>\n",
       "      <th>礼金</th>\n",
       "      <th>間取り</th>\n",
       "      <th>面積</th>\n",
       "      <th>物件画像URL</th>\n",
       "      <th>間取画像URL</th>\n",
       "      <th>物件詳細URL</th>\n",
       "    </tr>\n",
       "  </thead>\n",
       "  <tbody>\n",
       "    <tr>\n",
       "      <th>0</th>\n",
       "      <td>ＦＡＲＥ西新宿VIII</td>\n",
       "      <td>東京都新宿区西新宿4丁目20-14-2</td>\n",
       "      <td>都営大江戸線 西新宿五丁目駅 徒歩4分, 都営大江戸線 都庁前駅 徒歩12分</td>\n",
       "      <td>新築</td>\n",
       "      <td>4階建</td>\n",
       "      <td>4階</td>\n",
       "      <td>9.7万円</td>\n",
       "      <td>5000円</td>\n",
       "      <td>1ヶ月</td>\n",
       "      <td>無</td>\n",
       "      <td>ワンルーム</td>\n",
       "      <td>17.87m2</td>\n",
       "      <td>https://image4.homes.jp/smallimg/image.php?fil...</td>\n",
       "      <td>https://image3.homes.jp/smallimg/image.php?fil...</td>\n",
       "      <td>https://www.homes.co.jp/chintai/room/c36a2b793...</td>\n",
       "    </tr>\n",
       "    <tr>\n",
       "      <th>1</th>\n",
       "      <td>ＨＪ　ＰＬＡＣＥ　早稲田鶴巻　I</td>\n",
       "      <td>東京都新宿区早稲田鶴巻町107-20</td>\n",
       "      <td>東京メトロ東西線 早稲田駅 徒歩6分, 東京メトロ有楽町線 江戸川橋駅 徒歩11分</td>\n",
       "      <td>新築</td>\n",
       "      <td>5階建</td>\n",
       "      <td>5階</td>\n",
       "      <td>7.9万円</td>\n",
       "      <td>8000円</td>\n",
       "      <td>無</td>\n",
       "      <td>無</td>\n",
       "      <td>ワンルーム</td>\n",
       "      <td>12.16m2</td>\n",
       "      <td>https://image1.homes.jp/smallimg/image.php?fil...</td>\n",
       "      <td>https://image1.homes.jp/smallimg/image.php?fil...</td>\n",
       "      <td>https://www.homes.co.jp/chintai/room/16cce3c6e...</td>\n",
       "    </tr>\n",
       "    <tr>\n",
       "      <th>2</th>\n",
       "      <td>PASEO市谷加賀町</td>\n",
       "      <td>東京都新宿区市谷加賀町2丁目</td>\n",
       "      <td>都営大江戸線 牛込柳町駅 徒歩10分, 都営新宿線 曙橋駅 徒歩11分, JR中央線 市ケ谷...</td>\n",
       "      <td>2年</td>\n",
       "      <td>4階建</td>\n",
       "      <td>3階</td>\n",
       "      <td>11.9万円</td>\n",
       "      <td>10000円</td>\n",
       "      <td>無</td>\n",
       "      <td>無</td>\n",
       "      <td>1K</td>\n",
       "      <td>23.4m2</td>\n",
       "      <td>https://image2.homes.jp/smallimg/image.php?fil...</td>\n",
       "      <td>https://image3.homes.jp/smallimg/image.php?fil...</td>\n",
       "      <td>https://www.homes.co.jp/chintai/room/6adc31d49...</td>\n",
       "    </tr>\n",
       "    <tr>\n",
       "      <th>3</th>\n",
       "      <td>レピュア神楽坂駅前レジデンス</td>\n",
       "      <td>東京都新宿区細工町1-15</td>\n",
       "      <td>都営大江戸線 牛込神楽坂駅 徒歩3分, 東京メトロ東西線 神楽坂駅 徒歩8分</td>\n",
       "      <td>新築</td>\n",
       "      <td>5階建</td>\n",
       "      <td>3階</td>\n",
       "      <td>13.8万円</td>\n",
       "      <td>12000円</td>\n",
       "      <td>無</td>\n",
       "      <td>無</td>\n",
       "      <td>ワンルーム</td>\n",
       "      <td>20.31m2</td>\n",
       "      <td>https://image2.homes.jp/smallimg/image.php?fil...</td>\n",
       "      <td>https://image4.homes.jp/smallimg/image.php?fil...</td>\n",
       "      <td>https://www.homes.co.jp/chintai/room/eca767a0d...</td>\n",
       "    </tr>\n",
       "    <tr>\n",
       "      <th>4</th>\n",
       "      <td>レピュア神楽坂駅前レジデンス</td>\n",
       "      <td>東京都新宿区細工町1-15</td>\n",
       "      <td>都営大江戸線 牛込神楽坂駅 徒歩3分, 東京メトロ東西線 神楽坂駅 徒歩8分, 東京地下鉄有...</td>\n",
       "      <td>新築</td>\n",
       "      <td>5階建</td>\n",
       "      <td>4階</td>\n",
       "      <td>30.8万円</td>\n",
       "      <td>18000円</td>\n",
       "      <td>無</td>\n",
       "      <td>無</td>\n",
       "      <td>2LDK</td>\n",
       "      <td>48.69m2</td>\n",
       "      <td>https://image4.homes.jp/smallimg/image.php?fil...</td>\n",
       "      <td>https://image1.homes.jp/smallimg/image.php?fil...</td>\n",
       "      <td>https://www.homes.co.jp/chintai/room/2e8ff9f15...</td>\n",
       "    </tr>\n",
       "  </tbody>\n",
       "</table>\n",
       "</div>"
      ],
      "text/plain": [
       "                 名称                 アドレス  \\\n",
       "0       ＦＡＲＥ西新宿VIII  東京都新宿区西新宿4丁目20-14-2   \n",
       "1  ＨＪ　ＰＬＡＣＥ　早稲田鶴巻　I   東京都新宿区早稲田鶴巻町107-20   \n",
       "2        PASEO市谷加賀町       東京都新宿区市谷加賀町2丁目   \n",
       "3    レピュア神楽坂駅前レジデンス        東京都新宿区細工町1-15   \n",
       "4    レピュア神楽坂駅前レジデンス        東京都新宿区細工町1-15   \n",
       "\n",
       "                                                アクセス 築年数   構造  階数      家賃  \\\n",
       "0             都営大江戸線 西新宿五丁目駅 徒歩4分, 都営大江戸線 都庁前駅 徒歩12分  新築  4階建  4階   9.7万円   \n",
       "1          東京メトロ東西線 早稲田駅 徒歩6分, 東京メトロ有楽町線 江戸川橋駅 徒歩11分  新築  5階建  5階   7.9万円   \n",
       "2  都営大江戸線 牛込柳町駅 徒歩10分, 都営新宿線 曙橋駅 徒歩11分, JR中央線 市ケ谷...  2年  4階建  3階  11.9万円   \n",
       "3             都営大江戸線 牛込神楽坂駅 徒歩3分, 東京メトロ東西線 神楽坂駅 徒歩8分  新築  5階建  3階  13.8万円   \n",
       "4  都営大江戸線 牛込神楽坂駅 徒歩3分, 東京メトロ東西線 神楽坂駅 徒歩8分, 東京地下鉄有...  新築  5階建  4階  30.8万円   \n",
       "\n",
       "      管理費   敷金 礼金    間取り       面積  \\\n",
       "0   5000円  1ヶ月  無  ワンルーム  17.87m2   \n",
       "1   8000円    無  無  ワンルーム  12.16m2   \n",
       "2  10000円    無  無     1K   23.4m2   \n",
       "3  12000円    無  無  ワンルーム  20.31m2   \n",
       "4  18000円    無  無   2LDK  48.69m2   \n",
       "\n",
       "                                             物件画像URL  \\\n",
       "0  https://image4.homes.jp/smallimg/image.php?fil...   \n",
       "1  https://image1.homes.jp/smallimg/image.php?fil...   \n",
       "2  https://image2.homes.jp/smallimg/image.php?fil...   \n",
       "3  https://image2.homes.jp/smallimg/image.php?fil...   \n",
       "4  https://image4.homes.jp/smallimg/image.php?fil...   \n",
       "\n",
       "                                             間取画像URL  \\\n",
       "0  https://image3.homes.jp/smallimg/image.php?fil...   \n",
       "1  https://image1.homes.jp/smallimg/image.php?fil...   \n",
       "2  https://image3.homes.jp/smallimg/image.php?fil...   \n",
       "3  https://image4.homes.jp/smallimg/image.php?fil...   \n",
       "4  https://image1.homes.jp/smallimg/image.php?fil...   \n",
       "\n",
       "                                             物件詳細URL  \n",
       "0  https://www.homes.co.jp/chintai/room/c36a2b793...  \n",
       "1  https://www.homes.co.jp/chintai/room/16cce3c6e...  \n",
       "2  https://www.homes.co.jp/chintai/room/6adc31d49...  \n",
       "3  https://www.homes.co.jp/chintai/room/eca767a0d...  \n",
       "4  https://www.homes.co.jp/chintai/room/2e8ff9f15...  "
      ]
     },
     "execution_count": 103,
     "metadata": {},
     "output_type": "execute_result"
    }
   ],
   "source": [
    "df = pd.DataFrame(all_data)\n",
    "df.head(5)"
   ]
  },
  {
   "cell_type": "markdown",
   "metadata": {},
   "source": [
    "スーモと重複削除するために住所の表記を合わせる"
   ]
  },
  {
   "cell_type": "code",
   "execution_count": 104,
   "metadata": {},
   "outputs": [],
   "source": [
    "# 住所の標準化関数\n",
    "def standardize_address(address):\n",
    "    # 数字を半角から全角に変換\n",
    "    address = re.sub(r'1', '１', address)\n",
    "    address = re.sub(r'2', '２', address)\n",
    "    address = re.sub(r'3', '３', address)\n",
    "    address = re.sub(r'4', '４', address)\n",
    "    address = re.sub(r'5', '５', address)\n",
    "    address = re.sub(r'6', '６', address)\n",
    "    address = re.sub(r'7', '７', address)\n",
    "    address = re.sub(r'8', '８', address)\n",
    "    address = re.sub(r'9', '９', address)\n",
    "    address = re.sub(r'0', '０', address)\n",
    "    \n",
    "    # 「丁目」以降を削除\n",
    "    address = re.sub(r'丁目.*', '', address)\n",
    "    address = re.sub(r'-.*', '', address)\n",
    "    \n",
    "    return address\n",
    "\n",
    "# 標準化した住所を新しいカラムに追加\n",
    "df['アドレス'] = df['アドレス'].apply(standardize_address)\n",
    "\n",
    "#数字を除去した住所をアドレス_数字除去に格納\n",
    "def remove_numbers(address):\n",
    "    # 数字を削除\n",
    "    address_no_numbers = re.sub(r'[0-9０-９]', '', address)\n",
    "    return address_no_numbers\n",
    "\n",
    "# 数字を削除した住所を新しいカラムに追加\n",
    "df['アドレス_数字除去'] = df['アドレス'].apply(remove_numbers)"
   ]
  },
  {
   "cell_type": "code",
   "execution_count": 105,
   "metadata": {},
   "outputs": [
    {
     "data": {
      "text/html": [
       "<div>\n",
       "<style scoped>\n",
       "    .dataframe tbody tr th:only-of-type {\n",
       "        vertical-align: middle;\n",
       "    }\n",
       "\n",
       "    .dataframe tbody tr th {\n",
       "        vertical-align: top;\n",
       "    }\n",
       "\n",
       "    .dataframe thead th {\n",
       "        text-align: right;\n",
       "    }\n",
       "</style>\n",
       "<table border=\"1\" class=\"dataframe\">\n",
       "  <thead>\n",
       "    <tr style=\"text-align: right;\">\n",
       "      <th></th>\n",
       "      <th>名称</th>\n",
       "      <th>アドレス</th>\n",
       "      <th>アクセス</th>\n",
       "      <th>築年数</th>\n",
       "      <th>構造</th>\n",
       "      <th>階数</th>\n",
       "      <th>家賃</th>\n",
       "      <th>管理費</th>\n",
       "      <th>敷金</th>\n",
       "      <th>礼金</th>\n",
       "      <th>間取り</th>\n",
       "      <th>面積</th>\n",
       "      <th>物件画像URL</th>\n",
       "      <th>間取画像URL</th>\n",
       "      <th>物件詳細URL</th>\n",
       "      <th>アドレス_数字除去</th>\n",
       "    </tr>\n",
       "  </thead>\n",
       "  <tbody>\n",
       "    <tr>\n",
       "      <th>0</th>\n",
       "      <td>ＦＡＲＥ西新宿VIII</td>\n",
       "      <td>東京都新宿区西新宿４</td>\n",
       "      <td>都営大江戸線 西新宿五丁目駅 徒歩4分, 都営大江戸線 都庁前駅 徒歩12分</td>\n",
       "      <td>新築</td>\n",
       "      <td>4階建</td>\n",
       "      <td>4階</td>\n",
       "      <td>9.7万円</td>\n",
       "      <td>5000円</td>\n",
       "      <td>1ヶ月</td>\n",
       "      <td>無</td>\n",
       "      <td>ワンルーム</td>\n",
       "      <td>17.87m2</td>\n",
       "      <td>https://image4.homes.jp/smallimg/image.php?fil...</td>\n",
       "      <td>https://image3.homes.jp/smallimg/image.php?fil...</td>\n",
       "      <td>https://www.homes.co.jp/chintai/room/c36a2b793...</td>\n",
       "      <td>東京都新宿区西新宿</td>\n",
       "    </tr>\n",
       "    <tr>\n",
       "      <th>1</th>\n",
       "      <td>ＨＪ　ＰＬＡＣＥ　早稲田鶴巻　I</td>\n",
       "      <td>東京都新宿区早稲田鶴巻町１０７</td>\n",
       "      <td>東京メトロ東西線 早稲田駅 徒歩6分, 東京メトロ有楽町線 江戸川橋駅 徒歩11分</td>\n",
       "      <td>新築</td>\n",
       "      <td>5階建</td>\n",
       "      <td>5階</td>\n",
       "      <td>7.9万円</td>\n",
       "      <td>8000円</td>\n",
       "      <td>無</td>\n",
       "      <td>無</td>\n",
       "      <td>ワンルーム</td>\n",
       "      <td>12.16m2</td>\n",
       "      <td>https://image1.homes.jp/smallimg/image.php?fil...</td>\n",
       "      <td>https://image1.homes.jp/smallimg/image.php?fil...</td>\n",
       "      <td>https://www.homes.co.jp/chintai/room/16cce3c6e...</td>\n",
       "      <td>東京都新宿区早稲田鶴巻町</td>\n",
       "    </tr>\n",
       "    <tr>\n",
       "      <th>2</th>\n",
       "      <td>PASEO市谷加賀町</td>\n",
       "      <td>東京都新宿区市谷加賀町２</td>\n",
       "      <td>都営大江戸線 牛込柳町駅 徒歩10分, 都営新宿線 曙橋駅 徒歩11分, JR中央線 市ケ谷...</td>\n",
       "      <td>2年</td>\n",
       "      <td>4階建</td>\n",
       "      <td>3階</td>\n",
       "      <td>11.9万円</td>\n",
       "      <td>10000円</td>\n",
       "      <td>無</td>\n",
       "      <td>無</td>\n",
       "      <td>1K</td>\n",
       "      <td>23.4m2</td>\n",
       "      <td>https://image2.homes.jp/smallimg/image.php?fil...</td>\n",
       "      <td>https://image3.homes.jp/smallimg/image.php?fil...</td>\n",
       "      <td>https://www.homes.co.jp/chintai/room/6adc31d49...</td>\n",
       "      <td>東京都新宿区市谷加賀町</td>\n",
       "    </tr>\n",
       "    <tr>\n",
       "      <th>3</th>\n",
       "      <td>レピュア神楽坂駅前レジデンス</td>\n",
       "      <td>東京都新宿区細工町１</td>\n",
       "      <td>都営大江戸線 牛込神楽坂駅 徒歩3分, 東京メトロ東西線 神楽坂駅 徒歩8分</td>\n",
       "      <td>新築</td>\n",
       "      <td>5階建</td>\n",
       "      <td>3階</td>\n",
       "      <td>13.8万円</td>\n",
       "      <td>12000円</td>\n",
       "      <td>無</td>\n",
       "      <td>無</td>\n",
       "      <td>ワンルーム</td>\n",
       "      <td>20.31m2</td>\n",
       "      <td>https://image2.homes.jp/smallimg/image.php?fil...</td>\n",
       "      <td>https://image4.homes.jp/smallimg/image.php?fil...</td>\n",
       "      <td>https://www.homes.co.jp/chintai/room/eca767a0d...</td>\n",
       "      <td>東京都新宿区細工町</td>\n",
       "    </tr>\n",
       "    <tr>\n",
       "      <th>4</th>\n",
       "      <td>レピュア神楽坂駅前レジデンス</td>\n",
       "      <td>東京都新宿区細工町１</td>\n",
       "      <td>都営大江戸線 牛込神楽坂駅 徒歩3分, 東京メトロ東西線 神楽坂駅 徒歩8分, 東京地下鉄有...</td>\n",
       "      <td>新築</td>\n",
       "      <td>5階建</td>\n",
       "      <td>4階</td>\n",
       "      <td>30.8万円</td>\n",
       "      <td>18000円</td>\n",
       "      <td>無</td>\n",
       "      <td>無</td>\n",
       "      <td>2LDK</td>\n",
       "      <td>48.69m2</td>\n",
       "      <td>https://image4.homes.jp/smallimg/image.php?fil...</td>\n",
       "      <td>https://image1.homes.jp/smallimg/image.php?fil...</td>\n",
       "      <td>https://www.homes.co.jp/chintai/room/2e8ff9f15...</td>\n",
       "      <td>東京都新宿区細工町</td>\n",
       "    </tr>\n",
       "  </tbody>\n",
       "</table>\n",
       "</div>"
      ],
      "text/plain": [
       "                 名称             アドレス  \\\n",
       "0       ＦＡＲＥ西新宿VIII       東京都新宿区西新宿４   \n",
       "1  ＨＪ　ＰＬＡＣＥ　早稲田鶴巻　I  東京都新宿区早稲田鶴巻町１０７   \n",
       "2        PASEO市谷加賀町     東京都新宿区市谷加賀町２   \n",
       "3    レピュア神楽坂駅前レジデンス       東京都新宿区細工町１   \n",
       "4    レピュア神楽坂駅前レジデンス       東京都新宿区細工町１   \n",
       "\n",
       "                                                アクセス 築年数   構造  階数      家賃  \\\n",
       "0             都営大江戸線 西新宿五丁目駅 徒歩4分, 都営大江戸線 都庁前駅 徒歩12分  新築  4階建  4階   9.7万円   \n",
       "1          東京メトロ東西線 早稲田駅 徒歩6分, 東京メトロ有楽町線 江戸川橋駅 徒歩11分  新築  5階建  5階   7.9万円   \n",
       "2  都営大江戸線 牛込柳町駅 徒歩10分, 都営新宿線 曙橋駅 徒歩11分, JR中央線 市ケ谷...  2年  4階建  3階  11.9万円   \n",
       "3             都営大江戸線 牛込神楽坂駅 徒歩3分, 東京メトロ東西線 神楽坂駅 徒歩8分  新築  5階建  3階  13.8万円   \n",
       "4  都営大江戸線 牛込神楽坂駅 徒歩3分, 東京メトロ東西線 神楽坂駅 徒歩8分, 東京地下鉄有...  新築  5階建  4階  30.8万円   \n",
       "\n",
       "      管理費   敷金 礼金    間取り       面積  \\\n",
       "0   5000円  1ヶ月  無  ワンルーム  17.87m2   \n",
       "1   8000円    無  無  ワンルーム  12.16m2   \n",
       "2  10000円    無  無     1K   23.4m2   \n",
       "3  12000円    無  無  ワンルーム  20.31m2   \n",
       "4  18000円    無  無   2LDK  48.69m2   \n",
       "\n",
       "                                             物件画像URL  \\\n",
       "0  https://image4.homes.jp/smallimg/image.php?fil...   \n",
       "1  https://image1.homes.jp/smallimg/image.php?fil...   \n",
       "2  https://image2.homes.jp/smallimg/image.php?fil...   \n",
       "3  https://image2.homes.jp/smallimg/image.php?fil...   \n",
       "4  https://image4.homes.jp/smallimg/image.php?fil...   \n",
       "\n",
       "                                             間取画像URL  \\\n",
       "0  https://image3.homes.jp/smallimg/image.php?fil...   \n",
       "1  https://image1.homes.jp/smallimg/image.php?fil...   \n",
       "2  https://image3.homes.jp/smallimg/image.php?fil...   \n",
       "3  https://image4.homes.jp/smallimg/image.php?fil...   \n",
       "4  https://image1.homes.jp/smallimg/image.php?fil...   \n",
       "\n",
       "                                             物件詳細URL     アドレス_数字除去  \n",
       "0  https://www.homes.co.jp/chintai/room/c36a2b793...     東京都新宿区西新宿  \n",
       "1  https://www.homes.co.jp/chintai/room/16cce3c6e...  東京都新宿区早稲田鶴巻町  \n",
       "2  https://www.homes.co.jp/chintai/room/6adc31d49...   東京都新宿区市谷加賀町  \n",
       "3  https://www.homes.co.jp/chintai/room/eca767a0d...     東京都新宿区細工町  \n",
       "4  https://www.homes.co.jp/chintai/room/2e8ff9f15...     東京都新宿区細工町  "
      ]
     },
     "execution_count": 105,
     "metadata": {},
     "output_type": "execute_result"
    }
   ],
   "source": [
    "df.head(5)"
   ]
  },
  {
   "cell_type": "markdown",
   "metadata": {},
   "source": [
    "ここで、スーモからも出力！"
   ]
  },
  {
   "cell_type": "code",
   "execution_count": 106,
   "metadata": {},
   "outputs": [
    {
     "name": "stdout",
     "output_type": "stream",
     "text": [
      "page 1 items 20\n",
      "page 2 items 20\n",
      "page 3 items 20\n",
      "page 4 items 20\n",
      "page 5 items 20\n"
     ]
    }
   ],
   "source": [
    "# 基本URLと最大ページ数の設定\n",
    "base_url = \"https://suumo.jp/chintai/tokyo/sc_shinjuku/?page={}\"\n",
    "max_page = 5  # 最大ページ数\n",
    "\n",
    "all_data = []\n",
    "\n",
    "for page in range(1, max_page + 1):\n",
    "    url = base_url.format(page)\n",
    "    response = requests.get(url)\n",
    "    soup = BeautifulSoup(response.content, 'lxml')\n",
    "    items = soup.findAll(\"div\", {\"class\": \"cassetteitem\"})\n",
    "\n",
    "\n",
    "    print(\"page\", page, \"items\", len(items))\n",
    "\n",
    "    for item in items:\n",
    "        base_data = {}\n",
    "        base_data[\"名称\"]     = item.find(\"div\", {\"class\": \"cassetteitem_content-title\"}).get_text(strip=True) if item.find(\"div\", {\"class\": \"cassetteitem_content-title\"}) else None\n",
    "        base_data[\"カテゴリ\"] = item.find(\"div\", {\"class\": \"cassetteitem_content-label\"}).span.get_text(strip=True) if item.find(\"div\", {\"class\": \"cassetteitem_content-label\"}) else None\n",
    "        base_data[\"アドレス\"] = item.find(\"li\", {\"class\": \"cassetteitem_detail-col1\"}).get_text(strip=True) if item.find(\"li\", {\"class\": \"cassetteitem_detail-col1\"}) else None\n",
    "        \n",
    "        # 駅のアクセス情報をまとめて取得\n",
    "        base_data[\"アクセス\"] = \", \".join([station.get_text(strip=True) for station in item.findAll(\"div\", {\"class\": \"cassetteitem_detail-text\"})])\n",
    "\n",
    "        construction_info = item.find(\"li\", {\"class\": \"cassetteitem_detail-col3\"}).find_all(\"div\") if item.find(\"li\", {\"class\": \"cassetteitem_detail-col3\"}) else None\n",
    "        base_data[\"築年数\"] = construction_info[0].get_text(strip=True) if construction_info and len(construction_info) > 0 else None\n",
    "        base_data[\"構造\"] = construction_info[1].get_text(strip=True) if construction_info and len(construction_info) > 1 else None\n",
    "\n",
    "        tbodys = item.find(\"table\", {\"class\": \"cassetteitem_other\"}).findAll(\"tbody\")\n",
    "\n",
    "        for tbody in tbodys:\n",
    "            data = base_data.copy()\n",
    "            # 階数情報の正確な取得\n",
    "            floor_info = tbody.find_all(\"td\")[2].get_text(strip=True) if len(tbody.find_all(\"td\")) > 2 else None\n",
    "            data[\"階数\"]   = floor_info\n",
    "            data[\"家賃\"]   = tbody.select_one(\".cassetteitem_price--rent\").get_text(strip=True) if tbody.select_one(\".cassetteitem_price--rent\") else None\n",
    "            data[\"管理費\"] = tbody.select_one(\".cassetteitem_price--administration\").get_text(strip=True) if tbody.select_one(\".cassetteitem_price--administration\") else None\n",
    "            data[\"敷金\"]   = tbody.select_one(\".cassetteitem_price--deposit\").get_text(strip=True) if tbody.select_one(\".cassetteitem_price--deposit\") else None\n",
    "            data[\"礼金\"]   = tbody.select_one(\".cassetteitem_price--gratuity\").get_text(strip=True) if tbody.select_one(\".cassetteitem_price--gratuity\") else None\n",
    "            data[\"間取り\"] = tbody.select_one(\".cassetteitem_madori\").get_text(strip=True) if tbody.select_one(\".cassetteitem_madori\") else None\n",
    "            data[\"面積\"]   = tbody.select_one(\".cassetteitem_menseki\").get_text(strip=True) if tbody.select_one(\".cassetteitem_menseki\") else None\n",
    "\n",
    "            # 物件画像・間取り画像・詳細URLの取得を最後に行う\n",
    "            property_image_element = item.find(class_=\"cassetteitem_object-item\")\n",
    "            data[\"物件画像URL\"] = property_image_element.img[\"rel\"] if property_image_element and property_image_element.img else None\n",
    "\n",
    "            floor_plan_image_element = item.find(class_=\"casssetteitem_other-thumbnail\")\n",
    "            data[\"間取画像URL\"] = floor_plan_image_element.img[\"rel\"] if floor_plan_image_element and floor_plan_image_element.img else None\n",
    "\n",
    "            property_link_element = item.select_one(\"a[href*='/chintai/jnc_']\")\n",
    "            data[\"物件詳細URL\"] = \"https://suumo.jp\" +property_link_element['href'] if property_link_element else None ## 不動産サイトから詳細URLリンクを読み解き作成\n",
    "\n",
    "            all_data.append(data)    \n"
   ]
  },
  {
   "cell_type": "markdown",
   "metadata": {},
   "source": [
    "スーモのデータはdf2へ"
   ]
  },
  {
   "cell_type": "code",
   "execution_count": 107,
   "metadata": {},
   "outputs": [],
   "source": [
    "df2 = pd.DataFrame(all_data)"
   ]
  },
  {
   "cell_type": "code",
   "execution_count": 108,
   "metadata": {},
   "outputs": [
    {
     "data": {
      "text/html": [
       "<div>\n",
       "<style scoped>\n",
       "    .dataframe tbody tr th:only-of-type {\n",
       "        vertical-align: middle;\n",
       "    }\n",
       "\n",
       "    .dataframe tbody tr th {\n",
       "        vertical-align: top;\n",
       "    }\n",
       "\n",
       "    .dataframe thead th {\n",
       "        text-align: right;\n",
       "    }\n",
       "</style>\n",
       "<table border=\"1\" class=\"dataframe\">\n",
       "  <thead>\n",
       "    <tr style=\"text-align: right;\">\n",
       "      <th></th>\n",
       "      <th>名称</th>\n",
       "      <th>カテゴリ</th>\n",
       "      <th>アドレス</th>\n",
       "      <th>アクセス</th>\n",
       "      <th>築年数</th>\n",
       "      <th>構造</th>\n",
       "      <th>階数</th>\n",
       "      <th>家賃</th>\n",
       "      <th>管理費</th>\n",
       "      <th>敷金</th>\n",
       "      <th>礼金</th>\n",
       "      <th>間取り</th>\n",
       "      <th>面積</th>\n",
       "      <th>物件画像URL</th>\n",
       "      <th>間取画像URL</th>\n",
       "      <th>物件詳細URL</th>\n",
       "    </tr>\n",
       "  </thead>\n",
       "  <tbody>\n",
       "    <tr>\n",
       "      <th>0</th>\n",
       "      <td>Ｍｏｎｋｓｔｏｗｎ夏目坂</td>\n",
       "      <td>賃貸マンション</td>\n",
       "      <td>東京都新宿区戸山１</td>\n",
       "      <td>東京メトロ東西線/早稲田駅 歩4分, 都営大江戸線/若松河田駅 歩10分, 都営大江戸線/牛...</td>\n",
       "      <td>新築</td>\n",
       "      <td>4階建</td>\n",
       "      <td>1階</td>\n",
       "      <td>28.5万円</td>\n",
       "      <td>10000円</td>\n",
       "      <td>28.5万円</td>\n",
       "      <td>28.5万円</td>\n",
       "      <td>1SLDK</td>\n",
       "      <td>75.09m2</td>\n",
       "      <td>https://img01.suumo.com/front/gazo/fr/bukken/4...</td>\n",
       "      <td>https://img01.suumo.com/front/gazo/fr/bukken/4...</td>\n",
       "      <td>https://suumo.jp/chintai/jnc_000089432312/?bc=...</td>\n",
       "    </tr>\n",
       "    <tr>\n",
       "      <th>1</th>\n",
       "      <td>富久クロスコンフォートタワー</td>\n",
       "      <td>賃貸マンション</td>\n",
       "      <td>東京都新宿区富久町</td>\n",
       "      <td>東京メトロ丸ノ内線/新宿御苑前駅 歩5分, 東京メトロ副都心線/新宿三丁目駅 歩8分, 都営...</td>\n",
       "      <td>築10年</td>\n",
       "      <td>地下2地上55階建</td>\n",
       "      <td>25階</td>\n",
       "      <td>23万円</td>\n",
       "      <td>10000円</td>\n",
       "      <td>23万円</td>\n",
       "      <td>23万円</td>\n",
       "      <td>1LDK</td>\n",
       "      <td>36.22m2</td>\n",
       "      <td>https://img01.suumo.com/front/gazo/fr/bukken/4...</td>\n",
       "      <td>https://img01.suumo.com/front/gazo/fr/bukken/2...</td>\n",
       "      <td>https://suumo.jp/chintai/jnc_000089247571/?bc=...</td>\n",
       "    </tr>\n",
       "  </tbody>\n",
       "</table>\n",
       "</div>"
      ],
      "text/plain": [
       "               名称     カテゴリ       アドレス  \\\n",
       "0    Ｍｏｎｋｓｔｏｗｎ夏目坂  賃貸マンション  東京都新宿区戸山１   \n",
       "1  富久クロスコンフォートタワー  賃貸マンション  東京都新宿区富久町   \n",
       "\n",
       "                                                アクセス   築年数         構造   階数  \\\n",
       "0  東京メトロ東西線/早稲田駅 歩4分, 都営大江戸線/若松河田駅 歩10分, 都営大江戸線/牛...    新築        4階建   1階   \n",
       "1  東京メトロ丸ノ内線/新宿御苑前駅 歩5分, 東京メトロ副都心線/新宿三丁目駅 歩8分, 都営...  築10年  地下2地上55階建  25階   \n",
       "\n",
       "       家賃     管理費      敷金      礼金    間取り       面積  \\\n",
       "0  28.5万円  10000円  28.5万円  28.5万円  1SLDK  75.09m2   \n",
       "1    23万円  10000円    23万円    23万円   1LDK  36.22m2   \n",
       "\n",
       "                                             物件画像URL  \\\n",
       "0  https://img01.suumo.com/front/gazo/fr/bukken/4...   \n",
       "1  https://img01.suumo.com/front/gazo/fr/bukken/4...   \n",
       "\n",
       "                                             間取画像URL  \\\n",
       "0  https://img01.suumo.com/front/gazo/fr/bukken/4...   \n",
       "1  https://img01.suumo.com/front/gazo/fr/bukken/2...   \n",
       "\n",
       "                                             物件詳細URL  \n",
       "0  https://suumo.jp/chintai/jnc_000089432312/?bc=...  \n",
       "1  https://suumo.jp/chintai/jnc_000089247571/?bc=...  "
      ]
     },
     "execution_count": 108,
     "metadata": {},
     "output_type": "execute_result"
    }
   ],
   "source": [
    "df2.head(2)"
   ]
  },
  {
   "cell_type": "code",
   "execution_count": 109,
   "metadata": {},
   "outputs": [],
   "source": [
    "#数字を除去した住所をアドレス_数字除去に格納\n",
    "def remove_numbers(address):\n",
    "    # 数字を削除\n",
    "    address_no_numbers = re.sub(r'[0-9０-９]', '', address)\n",
    "    return address_no_numbers\n",
    "\n",
    "# 数字を削除した住所を新しいカラムに追加\n",
    "df2['アドレス_数字除去'] = df2['アドレス'].apply(remove_numbers)"
   ]
  },
  {
   "cell_type": "markdown",
   "metadata": {},
   "source": [
    "カテゴリはホームズにないので消す"
   ]
  },
  {
   "cell_type": "code",
   "execution_count": 110,
   "metadata": {},
   "outputs": [],
   "source": [
    "df2_cleaned = df2.drop(columns=['カテゴリ'])"
   ]
  },
  {
   "cell_type": "code",
   "execution_count": 111,
   "metadata": {},
   "outputs": [
    {
     "data": {
      "text/html": [
       "<div>\n",
       "<style scoped>\n",
       "    .dataframe tbody tr th:only-of-type {\n",
       "        vertical-align: middle;\n",
       "    }\n",
       "\n",
       "    .dataframe tbody tr th {\n",
       "        vertical-align: top;\n",
       "    }\n",
       "\n",
       "    .dataframe thead th {\n",
       "        text-align: right;\n",
       "    }\n",
       "</style>\n",
       "<table border=\"1\" class=\"dataframe\">\n",
       "  <thead>\n",
       "    <tr style=\"text-align: right;\">\n",
       "      <th></th>\n",
       "      <th>名称</th>\n",
       "      <th>アドレス</th>\n",
       "      <th>アクセス</th>\n",
       "      <th>築年数</th>\n",
       "      <th>構造</th>\n",
       "      <th>階数</th>\n",
       "      <th>家賃</th>\n",
       "      <th>管理費</th>\n",
       "      <th>敷金</th>\n",
       "      <th>礼金</th>\n",
       "      <th>間取り</th>\n",
       "      <th>面積</th>\n",
       "      <th>物件画像URL</th>\n",
       "      <th>間取画像URL</th>\n",
       "      <th>物件詳細URL</th>\n",
       "      <th>アドレス_数字除去</th>\n",
       "    </tr>\n",
       "  </thead>\n",
       "  <tbody>\n",
       "    <tr>\n",
       "      <th>0</th>\n",
       "      <td>Ｍｏｎｋｓｔｏｗｎ夏目坂</td>\n",
       "      <td>東京都新宿区戸山１</td>\n",
       "      <td>東京メトロ東西線/早稲田駅 歩4分, 都営大江戸線/若松河田駅 歩10分, 都営大江戸線/牛...</td>\n",
       "      <td>新築</td>\n",
       "      <td>4階建</td>\n",
       "      <td>1階</td>\n",
       "      <td>28.5万円</td>\n",
       "      <td>10000円</td>\n",
       "      <td>28.5万円</td>\n",
       "      <td>28.5万円</td>\n",
       "      <td>1SLDK</td>\n",
       "      <td>75.09m2</td>\n",
       "      <td>https://img01.suumo.com/front/gazo/fr/bukken/4...</td>\n",
       "      <td>https://img01.suumo.com/front/gazo/fr/bukken/4...</td>\n",
       "      <td>https://suumo.jp/chintai/jnc_000089432312/?bc=...</td>\n",
       "      <td>東京都新宿区戸山</td>\n",
       "    </tr>\n",
       "  </tbody>\n",
       "</table>\n",
       "</div>"
      ],
      "text/plain": [
       "             名称       アドレス                                               アクセス  \\\n",
       "0  Ｍｏｎｋｓｔｏｗｎ夏目坂  東京都新宿区戸山１  東京メトロ東西線/早稲田駅 歩4分, 都営大江戸線/若松河田駅 歩10分, 都営大江戸線/牛...   \n",
       "\n",
       "  築年数   構造  階数      家賃     管理費      敷金      礼金    間取り       面積  \\\n",
       "0  新築  4階建  1階  28.5万円  10000円  28.5万円  28.5万円  1SLDK  75.09m2   \n",
       "\n",
       "                                             物件画像URL  \\\n",
       "0  https://img01.suumo.com/front/gazo/fr/bukken/4...   \n",
       "\n",
       "                                             間取画像URL  \\\n",
       "0  https://img01.suumo.com/front/gazo/fr/bukken/4...   \n",
       "\n",
       "                                             物件詳細URL アドレス_数字除去  \n",
       "0  https://suumo.jp/chintai/jnc_000089432312/?bc=...  東京都新宿区戸山  "
      ]
     },
     "execution_count": 111,
     "metadata": {},
     "output_type": "execute_result"
    }
   ],
   "source": [
    "df2_cleaned.head(1)"
   ]
  },
  {
   "cell_type": "markdown",
   "metadata": {},
   "source": [
    "dfとdf2_cleanを合体させる"
   ]
  },
  {
   "cell_type": "code",
   "execution_count": 112,
   "metadata": {},
   "outputs": [],
   "source": [
    "df_merged = pd.concat([df, df2_cleaned], ignore_index=True)"
   ]
  },
  {
   "cell_type": "code",
   "execution_count": 113,
   "metadata": {},
   "outputs": [
    {
     "data": {
      "text/html": [
       "<div>\n",
       "<style scoped>\n",
       "    .dataframe tbody tr th:only-of-type {\n",
       "        vertical-align: middle;\n",
       "    }\n",
       "\n",
       "    .dataframe tbody tr th {\n",
       "        vertical-align: top;\n",
       "    }\n",
       "\n",
       "    .dataframe thead th {\n",
       "        text-align: right;\n",
       "    }\n",
       "</style>\n",
       "<table border=\"1\" class=\"dataframe\">\n",
       "  <thead>\n",
       "    <tr style=\"text-align: right;\">\n",
       "      <th></th>\n",
       "      <th>名称</th>\n",
       "      <th>アドレス</th>\n",
       "      <th>アクセス</th>\n",
       "      <th>築年数</th>\n",
       "      <th>構造</th>\n",
       "      <th>階数</th>\n",
       "      <th>家賃</th>\n",
       "      <th>管理費</th>\n",
       "      <th>敷金</th>\n",
       "      <th>礼金</th>\n",
       "      <th>間取り</th>\n",
       "      <th>面積</th>\n",
       "      <th>物件画像URL</th>\n",
       "      <th>間取画像URL</th>\n",
       "      <th>物件詳細URL</th>\n",
       "      <th>アドレス_数字除去</th>\n",
       "    </tr>\n",
       "  </thead>\n",
       "  <tbody>\n",
       "    <tr>\n",
       "      <th>0</th>\n",
       "      <td>ＦＡＲＥ西新宿VIII</td>\n",
       "      <td>東京都新宿区西新宿４</td>\n",
       "      <td>都営大江戸線 西新宿五丁目駅 徒歩4分, 都営大江戸線 都庁前駅 徒歩12分</td>\n",
       "      <td>新築</td>\n",
       "      <td>4階建</td>\n",
       "      <td>4階</td>\n",
       "      <td>9.7万円</td>\n",
       "      <td>5000円</td>\n",
       "      <td>1ヶ月</td>\n",
       "      <td>無</td>\n",
       "      <td>ワンルーム</td>\n",
       "      <td>17.87m2</td>\n",
       "      <td>https://image4.homes.jp/smallimg/image.php?fil...</td>\n",
       "      <td>https://image3.homes.jp/smallimg/image.php?fil...</td>\n",
       "      <td>https://www.homes.co.jp/chintai/room/c36a2b793...</td>\n",
       "      <td>東京都新宿区西新宿</td>\n",
       "    </tr>\n",
       "  </tbody>\n",
       "</table>\n",
       "</div>"
      ],
      "text/plain": [
       "            名称        アドレス                                    アクセス 築年数   構造  \\\n",
       "0  ＦＡＲＥ西新宿VIII  東京都新宿区西新宿４  都営大江戸線 西新宿五丁目駅 徒歩4分, 都営大江戸線 都庁前駅 徒歩12分  新築  4階建   \n",
       "\n",
       "   階数     家賃    管理費   敷金 礼金    間取り       面積  \\\n",
       "0  4階  9.7万円  5000円  1ヶ月  無  ワンルーム  17.87m2   \n",
       "\n",
       "                                             物件画像URL  \\\n",
       "0  https://image4.homes.jp/smallimg/image.php?fil...   \n",
       "\n",
       "                                             間取画像URL  \\\n",
       "0  https://image3.homes.jp/smallimg/image.php?fil...   \n",
       "\n",
       "                                             物件詳細URL  アドレス_数字除去  \n",
       "0  https://www.homes.co.jp/chintai/room/c36a2b793...  東京都新宿区西新宿  "
      ]
     },
     "execution_count": 113,
     "metadata": {},
     "output_type": "execute_result"
    }
   ],
   "source": [
    "df_merged.head(1)"
   ]
  },
  {
   "cell_type": "markdown",
   "metadata": {},
   "source": [
    "重複物件を削除する。削除の条件は、「築年数」「構造」「階数」「家賃」「面積」「アドレス_数字除去」カラムが一致していること。"
   ]
  },
  {
   "cell_type": "code",
   "execution_count": 114,
   "metadata": {},
   "outputs": [
    {
     "name": "stdout",
     "output_type": "stream",
     "text": [
      "\n",
      "削除された重複レコード数: 113\n"
     ]
    }
   ],
   "source": [
    "# 重複削除\n",
    "df_deduplicated = df_merged.drop_duplicates(subset=['築年数', '構造', '階数', '家賃', '面積', 'アドレス_数字除去'])\n",
    "\n",
    "# 削除前後の行数を比較\n",
    "original_count = len(df_merged)\n",
    "deduplicated_count = len(df_deduplicated)\n",
    "duplicates_removed = original_count - deduplicated_count\n",
    "\n",
    "# 結果の表示\n",
    "print(f\"\\n削除された重複レコード数: {duplicates_removed}\")"
   ]
  },
  {
   "cell_type": "markdown",
   "metadata": {},
   "source": [
    "df_deduplicatedから「アドレス_数字除去」を削除する"
   ]
  },
  {
   "cell_type": "code",
   "execution_count": 115,
   "metadata": {},
   "outputs": [
    {
     "data": {
      "text/html": [
       "<div>\n",
       "<style scoped>\n",
       "    .dataframe tbody tr th:only-of-type {\n",
       "        vertical-align: middle;\n",
       "    }\n",
       "\n",
       "    .dataframe tbody tr th {\n",
       "        vertical-align: top;\n",
       "    }\n",
       "\n",
       "    .dataframe thead th {\n",
       "        text-align: right;\n",
       "    }\n",
       "</style>\n",
       "<table border=\"1\" class=\"dataframe\">\n",
       "  <thead>\n",
       "    <tr style=\"text-align: right;\">\n",
       "      <th></th>\n",
       "      <th>名称</th>\n",
       "      <th>アドレス</th>\n",
       "      <th>アクセス</th>\n",
       "      <th>築年数</th>\n",
       "      <th>構造</th>\n",
       "      <th>階数</th>\n",
       "      <th>家賃</th>\n",
       "      <th>管理費</th>\n",
       "      <th>敷金</th>\n",
       "      <th>礼金</th>\n",
       "      <th>間取り</th>\n",
       "      <th>面積</th>\n",
       "      <th>物件画像URL</th>\n",
       "      <th>間取画像URL</th>\n",
       "      <th>物件詳細URL</th>\n",
       "    </tr>\n",
       "  </thead>\n",
       "  <tbody>\n",
       "    <tr>\n",
       "      <th>0</th>\n",
       "      <td>ＦＡＲＥ西新宿VIII</td>\n",
       "      <td>東京都新宿区西新宿４</td>\n",
       "      <td>都営大江戸線 西新宿五丁目駅 徒歩4分, 都営大江戸線 都庁前駅 徒歩12分</td>\n",
       "      <td>新築</td>\n",
       "      <td>4階建</td>\n",
       "      <td>4階</td>\n",
       "      <td>9.7万円</td>\n",
       "      <td>5000円</td>\n",
       "      <td>1ヶ月</td>\n",
       "      <td>無</td>\n",
       "      <td>ワンルーム</td>\n",
       "      <td>17.87m2</td>\n",
       "      <td>https://image4.homes.jp/smallimg/image.php?fil...</td>\n",
       "      <td>https://image3.homes.jp/smallimg/image.php?fil...</td>\n",
       "      <td>https://www.homes.co.jp/chintai/room/c36a2b793...</td>\n",
       "    </tr>\n",
       "  </tbody>\n",
       "</table>\n",
       "</div>"
      ],
      "text/plain": [
       "            名称        アドレス                                    アクセス 築年数   構造  \\\n",
       "0  ＦＡＲＥ西新宿VIII  東京都新宿区西新宿４  都営大江戸線 西新宿五丁目駅 徒歩4分, 都営大江戸線 都庁前駅 徒歩12分  新築  4階建   \n",
       "\n",
       "   階数     家賃    管理費   敷金 礼金    間取り       面積  \\\n",
       "0  4階  9.7万円  5000円  1ヶ月  無  ワンルーム  17.87m2   \n",
       "\n",
       "                                             物件画像URL  \\\n",
       "0  https://image4.homes.jp/smallimg/image.php?fil...   \n",
       "\n",
       "                                             間取画像URL  \\\n",
       "0  https://image3.homes.jp/smallimg/image.php?fil...   \n",
       "\n",
       "                                             物件詳細URL  \n",
       "0  https://www.homes.co.jp/chintai/room/c36a2b793...  "
      ]
     },
     "execution_count": 115,
     "metadata": {},
     "output_type": "execute_result"
    }
   ],
   "source": [
    "df_deduplicated = df_deduplicated.drop(columns=['アドレス_数字除去'])\n",
    "df_deduplicated.head(1)"
   ]
  },
  {
   "cell_type": "markdown",
   "metadata": {},
   "source": [
    "ここからデータベースに格納する処理！"
   ]
  },
  {
   "cell_type": "code",
   "execution_count": null,
   "metadata": {},
   "outputs": [],
   "source": []
  }
 ],
 "metadata": {
  "kernelspec": {
   "display_name": "Python 3.9.12",
   "language": "python",
   "name": "python3"
  },
  "language_info": {
   "codemirror_mode": {
    "name": "ipython",
    "version": 3
   },
   "file_extension": ".py",
   "mimetype": "text/x-python",
   "name": "python",
   "nbconvert_exporter": "python",
   "pygments_lexer": "ipython3",
   "version": "3.11.5"
  },
  "orig_nbformat": 4,
  "vscode": {
   "interpreter": {
    "hash": "64d5d4399863c303542a5444b346de0b23e7b99b2b5a266af496652654d69ac2"
   }
  }
 },
 "nbformat": 4,
 "nbformat_minor": 2
}
